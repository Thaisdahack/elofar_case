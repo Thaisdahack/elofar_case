{
 "cells": [
  {
   "cell_type": "code",
   "execution_count": 1,
   "id": "0b10a77b",
   "metadata": {
    "ExecuteTime": {
     "end_time": "2022-08-21T19:29:25.798386Z",
     "start_time": "2022-08-21T19:29:13.313595Z"
    }
   },
   "outputs": [],
   "source": [
    "# Importando bibliotecas\n",
    "\n",
    "import pandas as pd\n",
    "import matplotlib.pyplot as plt\n",
    "import plotly.express as px\n",
    "import seaborn as sn\n",
    "import sklearn \n",
    "from datetime import datetime"
   ]
  },
  {
   "cell_type": "markdown",
   "id": "5a1f42c2",
   "metadata": {},
   "source": [
    "# Tratamento dos dados"
   ]
  },
  {
   "cell_type": "code",
   "execution_count": 30,
   "id": "cc2fecd0",
   "metadata": {
    "ExecuteTime": {
     "end_time": "2022-08-21T20:13:34.373911Z",
     "start_time": "2022-08-21T20:13:33.913311Z"
    }
   },
   "outputs": [],
   "source": [
    "# lendo o arquivo csv\n",
    "df = pd.read_csv('desafio_BI.csv',sep='|',encoding='latin1')"
   ]
  },
  {
   "cell_type": "code",
   "execution_count": 31,
   "id": "6b3cf83e",
   "metadata": {
    "ExecuteTime": {
     "end_time": "2022-08-21T20:13:35.278159Z",
     "start_time": "2022-08-21T20:13:35.252230Z"
    }
   },
   "outputs": [
    {
     "data": {
      "text/html": [
       "<div>\n",
       "<style scoped>\n",
       "    .dataframe tbody tr th:only-of-type {\n",
       "        vertical-align: middle;\n",
       "    }\n",
       "\n",
       "    .dataframe tbody tr th {\n",
       "        vertical-align: top;\n",
       "    }\n",
       "\n",
       "    .dataframe thead th {\n",
       "        text-align: right;\n",
       "    }\n",
       "</style>\n",
       "<table border=\"1\" class=\"dataframe\">\n",
       "  <thead>\n",
       "    <tr style=\"text-align: right;\">\n",
       "      <th></th>\n",
       "      <th>Data</th>\n",
       "      <th>Marca</th>\n",
       "      <th>Fabricante</th>\n",
       "      <th>ReferÃªncia_Elofar</th>\n",
       "      <th>UF</th>\n",
       "      <th>Unidades</th>\n",
       "      <th>R$</th>\n",
       "      <th>Tipo_canal</th>\n",
       "    </tr>\n",
       "  </thead>\n",
       "  <tbody>\n",
       "    <tr>\n",
       "      <th>0</th>\n",
       "      <td>2018-01-01</td>\n",
       "      <td>ALIVBABY</td>\n",
       "      <td>CAZI</td>\n",
       "      <td>BENZEVIT</td>\n",
       "      <td>BA</td>\n",
       "      <td>31,0</td>\n",
       "      <td>171,886</td>\n",
       "      <td>FARMACIAS</td>\n",
       "    </tr>\n",
       "    <tr>\n",
       "      <th>1</th>\n",
       "      <td>2018-01-01</td>\n",
       "      <td>ALIVBABY</td>\n",
       "      <td>CAZI</td>\n",
       "      <td>BENZEVIT</td>\n",
       "      <td>CE</td>\n",
       "      <td>529,0</td>\n",
       "      <td>3160,751</td>\n",
       "      <td>FARMACIAS</td>\n",
       "    </tr>\n",
       "    <tr>\n",
       "      <th>2</th>\n",
       "      <td>2018-01-01</td>\n",
       "      <td>ALIVBABY</td>\n",
       "      <td>CAZI</td>\n",
       "      <td>BENZEVIT</td>\n",
       "      <td>DF</td>\n",
       "      <td>7,0</td>\n",
       "      <td>38,813</td>\n",
       "      <td>FARMACIAS</td>\n",
       "    </tr>\n",
       "    <tr>\n",
       "      <th>3</th>\n",
       "      <td>2018-01-01</td>\n",
       "      <td>ALIVBABY</td>\n",
       "      <td>CAZI</td>\n",
       "      <td>BENZEVIT</td>\n",
       "      <td>GO</td>\n",
       "      <td>15,0</td>\n",
       "      <td>83,17</td>\n",
       "      <td>FARMACIAS</td>\n",
       "    </tr>\n",
       "    <tr>\n",
       "      <th>4</th>\n",
       "      <td>2018-01-01</td>\n",
       "      <td>ALIVBABY</td>\n",
       "      <td>CAZI</td>\n",
       "      <td>BENZEVIT</td>\n",
       "      <td>MA</td>\n",
       "      <td>295,0</td>\n",
       "      <td>1635,689</td>\n",
       "      <td>FARMACIAS</td>\n",
       "    </tr>\n",
       "  </tbody>\n",
       "</table>\n",
       "</div>"
      ],
      "text/plain": [
       "         Data     Marca Fabricante ReferÃªncia_Elofar  UF Unidades        R$  \\\n",
       "0  2018-01-01  ALIVBABY       CAZI           BENZEVIT  BA     31,0   171,886   \n",
       "1  2018-01-01  ALIVBABY       CAZI           BENZEVIT  CE    529,0  3160,751   \n",
       "2  2018-01-01  ALIVBABY       CAZI           BENZEVIT  DF      7,0    38,813   \n",
       "3  2018-01-01  ALIVBABY       CAZI           BENZEVIT  GO     15,0     83,17   \n",
       "4  2018-01-01  ALIVBABY       CAZI           BENZEVIT  MA    295,0  1635,689   \n",
       "\n",
       "  Tipo_canal  \n",
       "0  FARMACIAS  \n",
       "1  FARMACIAS  \n",
       "2  FARMACIAS  \n",
       "3  FARMACIAS  \n",
       "4  FARMACIAS  "
      ]
     },
     "execution_count": 31,
     "metadata": {},
     "output_type": "execute_result"
    }
   ],
   "source": [
    "df.head()\n"
   ]
  },
  {
   "cell_type": "code",
   "execution_count": null,
   "id": "65844c07",
   "metadata": {
    "ExecuteTime": {
     "end_time": "2022-08-21T19:34:06.317895Z",
     "start_time": "2022-08-21T19:34:06.128001Z"
    }
   },
   "outputs": [],
   "source": []
  },
  {
   "cell_type": "code",
   "execution_count": 32,
   "id": "1055ffa7",
   "metadata": {
    "ExecuteTime": {
     "end_time": "2022-08-21T20:13:47.490737Z",
     "start_time": "2022-08-21T20:13:47.473744Z"
    }
   },
   "outputs": [],
   "source": [
    "#Renomeando a coluna R$ e referencias_elofar \n",
    "df.rename(columns={'R$': 'Valor_vendas'}, inplace = True)\n",
    "df.rename(columns={'ReferÃªncia_Elofar': 'Ref_Elofar'}, inplace = True)"
   ]
  },
  {
   "cell_type": "code",
   "execution_count": 33,
   "id": "7fab87cd",
   "metadata": {
    "ExecuteTime": {
     "end_time": "2022-08-21T20:13:48.999957Z",
     "start_time": "2022-08-21T20:13:48.980003Z"
    }
   },
   "outputs": [
    {
     "data": {
      "text/plain": [
       "(253270, 8)"
      ]
     },
     "execution_count": 33,
     "metadata": {},
     "output_type": "execute_result"
    }
   ],
   "source": [
    "# tamanho do dataset\n",
    "df.shape"
   ]
  },
  {
   "cell_type": "code",
   "execution_count": 34,
   "id": "07357bdf",
   "metadata": {
    "ExecuteTime": {
     "end_time": "2022-08-21T20:13:52.566897Z",
     "start_time": "2022-08-21T20:13:52.394819Z"
    }
   },
   "outputs": [
    {
     "name": "stdout",
     "output_type": "stream",
     "text": [
      "<class 'pandas.core.frame.DataFrame'>\n",
      "RangeIndex: 253270 entries, 0 to 253269\n",
      "Data columns (total 8 columns):\n",
      " #   Column        Non-Null Count   Dtype \n",
      "---  ------        --------------   ----- \n",
      " 0   Data          253270 non-null  object\n",
      " 1   Marca         253270 non-null  object\n",
      " 2   Fabricante    253270 non-null  object\n",
      " 3   Ref_Elofar    253270 non-null  object\n",
      " 4   UF            253270 non-null  object\n",
      " 5   Unidades      253270 non-null  object\n",
      " 6   Valor_vendas  253270 non-null  object\n",
      " 7   Tipo_canal    253270 non-null  object\n",
      "dtypes: object(8)\n",
      "memory usage: 15.5+ MB\n"
     ]
    }
   ],
   "source": [
    "# Informaçoes sobre nulos e tipo dos dados\n",
    "df.info()"
   ]
  },
  {
   "cell_type": "code",
   "execution_count": 35,
   "id": "64327969",
   "metadata": {
    "ExecuteTime": {
     "end_time": "2022-08-21T20:13:58.359767Z",
     "start_time": "2022-08-21T20:13:58.267640Z"
    }
   },
   "outputs": [],
   "source": [
    "# Alterando os tipos de dados\n",
    "## Tranformando o tipo da coluna data\n",
    "df['Data'] = df['Data'].astype(str)\n",
    "df['Data'] = pd.to_datetime(df['Data'])\n"
   ]
  },
  {
   "cell_type": "code",
   "execution_count": null,
   "id": "e2d72313",
   "metadata": {
    "ExecuteTime": {
     "end_time": "2022-08-19T18:01:54.804625Z",
     "start_time": "2022-08-19T18:01:54.584724Z"
    }
   },
   "outputs": [],
   "source": []
  },
  {
   "cell_type": "code",
   "execution_count": 36,
   "id": "87f8538f",
   "metadata": {
    "ExecuteTime": {
     "end_time": "2022-08-21T20:14:15.639489Z",
     "start_time": "2022-08-21T20:14:15.428777Z"
    }
   },
   "outputs": [],
   "source": [
    "# Tranformando o tipo da coluna Unidades\n",
    "## primeiro substituir \",\" por \".\" como separador decimal\n",
    "\n",
    "df['Unidades'] = df['Unidades'].apply(lambda x: str(x).split(',')[0])\n",
    "## tranformar coluna unidades em tipo float\n",
    "df['Unidades'] = df['Unidades'].astype(int)"
   ]
  },
  {
   "cell_type": "code",
   "execution_count": null,
   "id": "54125d77",
   "metadata": {
    "ExecuteTime": {
     "end_time": "2022-08-19T18:03:27.306628Z",
     "start_time": "2022-08-19T18:03:27.124742Z"
    }
   },
   "outputs": [],
   "source": []
  },
  {
   "cell_type": "code",
   "execution_count": 37,
   "id": "90400b0c",
   "metadata": {
    "ExecuteTime": {
     "end_time": "2022-08-21T20:14:30.986644Z",
     "start_time": "2022-08-21T20:14:30.755668Z"
    }
   },
   "outputs": [],
   "source": [
    "# Tranformando o tipo da coluna Valor_vendas\n",
    "## primeiro substituir \",\" por \".\" como separador decimal\n",
    "df['Valor_vendas'] = df['Valor_vendas'].apply(lambda x: str(x).replace (\",\", \".\"))\n",
    "\n",
    "## tranformar coluna R$ em tipo float\n",
    "df['Valor_vendas'] = df['Valor_vendas'].astype(float)\n",
    "\n",
    "## Arredondar casas decimais de Valor_vendas\n",
    "df['Valor_vendas'] = df['Valor_vendas'].round(2)"
   ]
  },
  {
   "cell_type": "code",
   "execution_count": 38,
   "id": "0f7bef98",
   "metadata": {
    "ExecuteTime": {
     "end_time": "2022-08-21T20:14:35.007269Z",
     "start_time": "2022-08-21T20:14:34.925235Z"
    }
   },
   "outputs": [
    {
     "name": "stdout",
     "output_type": "stream",
     "text": [
      "<class 'pandas.core.frame.DataFrame'>\n",
      "RangeIndex: 253270 entries, 0 to 253269\n",
      "Data columns (total 8 columns):\n",
      " #   Column        Non-Null Count   Dtype         \n",
      "---  ------        --------------   -----         \n",
      " 0   Data          253270 non-null  datetime64[ns]\n",
      " 1   Marca         253270 non-null  object        \n",
      " 2   Fabricante    253270 non-null  object        \n",
      " 3   Ref_Elofar    253270 non-null  object        \n",
      " 4   UF            253270 non-null  object        \n",
      " 5   Unidades      253270 non-null  int32         \n",
      " 6   Valor_vendas  253270 non-null  float64       \n",
      " 7   Tipo_canal    253270 non-null  object        \n",
      "dtypes: datetime64[ns](1), float64(1), int32(1), object(5)\n",
      "memory usage: 14.5+ MB\n"
     ]
    }
   ],
   "source": [
    "#Checando novamente os tipos de dados\n",
    "df.info()"
   ]
  },
  {
   "cell_type": "code",
   "execution_count": 39,
   "id": "739fd1f5",
   "metadata": {
    "ExecuteTime": {
     "end_time": "2022-08-21T20:14:44.295732Z",
     "start_time": "2022-08-21T20:14:44.267184Z"
    }
   },
   "outputs": [
    {
     "data": {
      "text/html": [
       "<div>\n",
       "<style scoped>\n",
       "    .dataframe tbody tr th:only-of-type {\n",
       "        vertical-align: middle;\n",
       "    }\n",
       "\n",
       "    .dataframe tbody tr th {\n",
       "        vertical-align: top;\n",
       "    }\n",
       "\n",
       "    .dataframe thead th {\n",
       "        text-align: right;\n",
       "    }\n",
       "</style>\n",
       "<table border=\"1\" class=\"dataframe\">\n",
       "  <thead>\n",
       "    <tr style=\"text-align: right;\">\n",
       "      <th></th>\n",
       "      <th>Data</th>\n",
       "      <th>Marca</th>\n",
       "      <th>Fabricante</th>\n",
       "      <th>Ref_Elofar</th>\n",
       "      <th>UF</th>\n",
       "      <th>Unidades</th>\n",
       "      <th>Valor_vendas</th>\n",
       "      <th>Tipo_canal</th>\n",
       "    </tr>\n",
       "  </thead>\n",
       "  <tbody>\n",
       "    <tr>\n",
       "      <th>0</th>\n",
       "      <td>2018-01-01</td>\n",
       "      <td>ALIVBABY</td>\n",
       "      <td>CAZI</td>\n",
       "      <td>BENZEVIT</td>\n",
       "      <td>BA</td>\n",
       "      <td>31</td>\n",
       "      <td>171.89</td>\n",
       "      <td>FARMACIAS</td>\n",
       "    </tr>\n",
       "    <tr>\n",
       "      <th>1</th>\n",
       "      <td>2018-01-01</td>\n",
       "      <td>ALIVBABY</td>\n",
       "      <td>CAZI</td>\n",
       "      <td>BENZEVIT</td>\n",
       "      <td>CE</td>\n",
       "      <td>529</td>\n",
       "      <td>3160.75</td>\n",
       "      <td>FARMACIAS</td>\n",
       "    </tr>\n",
       "    <tr>\n",
       "      <th>2</th>\n",
       "      <td>2018-01-01</td>\n",
       "      <td>ALIVBABY</td>\n",
       "      <td>CAZI</td>\n",
       "      <td>BENZEVIT</td>\n",
       "      <td>DF</td>\n",
       "      <td>7</td>\n",
       "      <td>38.81</td>\n",
       "      <td>FARMACIAS</td>\n",
       "    </tr>\n",
       "    <tr>\n",
       "      <th>3</th>\n",
       "      <td>2018-01-01</td>\n",
       "      <td>ALIVBABY</td>\n",
       "      <td>CAZI</td>\n",
       "      <td>BENZEVIT</td>\n",
       "      <td>GO</td>\n",
       "      <td>15</td>\n",
       "      <td>83.17</td>\n",
       "      <td>FARMACIAS</td>\n",
       "    </tr>\n",
       "    <tr>\n",
       "      <th>4</th>\n",
       "      <td>2018-01-01</td>\n",
       "      <td>ALIVBABY</td>\n",
       "      <td>CAZI</td>\n",
       "      <td>BENZEVIT</td>\n",
       "      <td>MA</td>\n",
       "      <td>295</td>\n",
       "      <td>1635.69</td>\n",
       "      <td>FARMACIAS</td>\n",
       "    </tr>\n",
       "  </tbody>\n",
       "</table>\n",
       "</div>"
      ],
      "text/plain": [
       "        Data     Marca Fabricante Ref_Elofar  UF  Unidades  Valor_vendas  \\\n",
       "0 2018-01-01  ALIVBABY       CAZI   BENZEVIT  BA        31        171.89   \n",
       "1 2018-01-01  ALIVBABY       CAZI   BENZEVIT  CE       529       3160.75   \n",
       "2 2018-01-01  ALIVBABY       CAZI   BENZEVIT  DF         7         38.81   \n",
       "3 2018-01-01  ALIVBABY       CAZI   BENZEVIT  GO        15         83.17   \n",
       "4 2018-01-01  ALIVBABY       CAZI   BENZEVIT  MA       295       1635.69   \n",
       "\n",
       "  Tipo_canal  \n",
       "0  FARMACIAS  \n",
       "1  FARMACIAS  \n",
       "2  FARMACIAS  \n",
       "3  FARMACIAS  \n",
       "4  FARMACIAS  "
      ]
     },
     "execution_count": 39,
     "metadata": {},
     "output_type": "execute_result"
    }
   ],
   "source": [
    "df.head()"
   ]
  },
  {
   "cell_type": "markdown",
   "id": "412d2753",
   "metadata": {},
   "source": [
    "## Estatistica descritiva"
   ]
  },
  {
   "cell_type": "code",
   "execution_count": 23,
   "id": "e07edc57",
   "metadata": {
    "ExecuteTime": {
     "end_time": "2022-08-21T20:09:38.311463Z",
     "start_time": "2022-08-21T20:09:37.076723Z"
    }
   },
   "outputs": [],
   "source": [
    "#!pip install sweetviz\n",
    "import sweetviz as sv"
   ]
  },
  {
   "cell_type": "code",
   "execution_count": 40,
   "id": "7a63473e",
   "metadata": {
    "ExecuteTime": {
     "end_time": "2022-08-21T20:15:10.601216Z",
     "start_time": "2022-08-21T20:15:10.544857Z"
    }
   },
   "outputs": [
    {
     "data": {
      "text/html": [
       "<div>\n",
       "<style scoped>\n",
       "    .dataframe tbody tr th:only-of-type {\n",
       "        vertical-align: middle;\n",
       "    }\n",
       "\n",
       "    .dataframe tbody tr th {\n",
       "        vertical-align: top;\n",
       "    }\n",
       "\n",
       "    .dataframe thead th {\n",
       "        text-align: right;\n",
       "    }\n",
       "</style>\n",
       "<table border=\"1\" class=\"dataframe\">\n",
       "  <thead>\n",
       "    <tr style=\"text-align: right;\">\n",
       "      <th></th>\n",
       "      <th>Unidades</th>\n",
       "      <th>Valor_vendas</th>\n",
       "    </tr>\n",
       "  </thead>\n",
       "  <tbody>\n",
       "    <tr>\n",
       "      <th>count</th>\n",
       "      <td>253270.000000</td>\n",
       "      <td>2.532700e+05</td>\n",
       "    </tr>\n",
       "    <tr>\n",
       "      <th>mean</th>\n",
       "      <td>1924.020417</td>\n",
       "      <td>1.519710e+04</td>\n",
       "    </tr>\n",
       "    <tr>\n",
       "      <th>std</th>\n",
       "      <td>12063.782589</td>\n",
       "      <td>6.206093e+04</td>\n",
       "    </tr>\n",
       "    <tr>\n",
       "      <th>min</th>\n",
       "      <td>0.000000</td>\n",
       "      <td>1.000000e-02</td>\n",
       "    </tr>\n",
       "    <tr>\n",
       "      <th>25%</th>\n",
       "      <td>12.000000</td>\n",
       "      <td>1.428400e+02</td>\n",
       "    </tr>\n",
       "    <tr>\n",
       "      <th>50%</th>\n",
       "      <td>106.000000</td>\n",
       "      <td>1.108410e+03</td>\n",
       "    </tr>\n",
       "    <tr>\n",
       "      <th>75%</th>\n",
       "      <td>737.000000</td>\n",
       "      <td>7.644727e+03</td>\n",
       "    </tr>\n",
       "    <tr>\n",
       "      <th>max</th>\n",
       "      <td>814510.000000</td>\n",
       "      <td>3.948751e+06</td>\n",
       "    </tr>\n",
       "  </tbody>\n",
       "</table>\n",
       "</div>"
      ],
      "text/plain": [
       "            Unidades  Valor_vendas\n",
       "count  253270.000000  2.532700e+05\n",
       "mean     1924.020417  1.519710e+04\n",
       "std     12063.782589  6.206093e+04\n",
       "min         0.000000  1.000000e-02\n",
       "25%        12.000000  1.428400e+02\n",
       "50%       106.000000  1.108410e+03\n",
       "75%       737.000000  7.644727e+03\n",
       "max    814510.000000  3.948751e+06"
      ]
     },
     "execution_count": 40,
     "metadata": {},
     "output_type": "execute_result"
    }
   ],
   "source": [
    "#Estatistica descritiva dos dados numericos\n",
    "df.describe()"
   ]
  },
  {
   "cell_type": "code",
   "execution_count": 41,
   "id": "bcac1e0c",
   "metadata": {
    "ExecuteTime": {
     "end_time": "2022-08-21T20:15:38.203338Z",
     "start_time": "2022-08-21T20:15:20.508988Z"
    }
   },
   "outputs": [
    {
     "data": {
      "application/vnd.jupyter.widget-view+json": {
       "model_id": "a877296616ba47d281ff18600f035e2c",
       "version_major": 2,
       "version_minor": 0
      },
      "text/plain": [
       "                                             |                                             | [  0%]   00:00 ->…"
      ]
     },
     "metadata": {},
     "output_type": "display_data"
    },
    {
     "name": "stdout",
     "output_type": "stream",
     "text": [
      "Report SWEETVIZ_REPORT.html was generated! NOTEBOOK/COLAB USERS: the web browser MAY not pop up, regardless, the report IS saved in your notebook/colab files.\n"
     ]
    }
   ],
   "source": [
    "# Gerando um relatorio com biblioteca sweetviz\n",
    "my_report = sv.analyze(df)\n",
    "my_report.show_html()"
   ]
  },
  {
   "cell_type": "code",
   "execution_count": null,
   "id": "e0e48f9b",
   "metadata": {},
   "outputs": [],
   "source": []
  },
  {
   "cell_type": "code",
   "execution_count": 42,
   "id": "e87f10ea",
   "metadata": {
    "ExecuteTime": {
     "end_time": "2022-08-21T20:15:38.408559Z",
     "start_time": "2022-08-21T20:15:38.364678Z"
    }
   },
   "outputs": [],
   "source": [
    "#Separando variais dependentes e indepentes\n",
    "X= df.iloc[:,[1,2,4,7]] #independente (valores categoricos que sao preditores ou explicativos para variaçoes nos resultados em questao de vendas(Marca, Fabricante, UF, Canal))\n",
    "y =df.iloc[:,[5,6]] #dependente (medidas ou variaveis de resultados('Unidades' e 'Valor_vendas'))\n"
   ]
  },
  {
   "cell_type": "code",
   "execution_count": 43,
   "id": "d06cdded",
   "metadata": {
    "ExecuteTime": {
     "end_time": "2022-08-21T20:16:54.186127Z",
     "start_time": "2022-08-21T20:16:54.170843Z"
    }
   },
   "outputs": [
    {
     "name": "stdout",
     "output_type": "stream",
     "text": [
      "           Marca Fabricante  UF Tipo_canal\n",
      "0       ALIVBABY       CAZI  BA  FARMACIAS\n",
      "1       ALIVBABY       CAZI  CE  FARMACIAS\n",
      "2       ALIVBABY       CAZI  DF  FARMACIAS\n",
      "3       ALIVBABY       CAZI  GO  FARMACIAS\n",
      "4       ALIVBABY       CAZI  MA  FARMACIAS\n",
      "...          ...        ...  ..        ...\n",
      "253265  VITPURUM  VITAMEDIC  RO  FARMACIAS\n",
      "253266  VITPURUM  VITAMEDIC  RS  FARMACIAS\n",
      "253267  VITPURUM  VITAMEDIC  SC  FARMACIAS\n",
      "253268  VITPURUM  VITAMEDIC  SP  FARMACIAS\n",
      "253269  VITPURUM  VITAMEDIC  TO  FARMACIAS\n",
      "\n",
      "[253270 rows x 4 columns]\n"
     ]
    }
   ],
   "source": [
    "print(X)"
   ]
  },
  {
   "cell_type": "code",
   "execution_count": 44,
   "id": "65926fa4",
   "metadata": {
    "ExecuteTime": {
     "end_time": "2022-08-21T20:17:10.512293Z",
     "start_time": "2022-08-21T20:17:10.499147Z"
    }
   },
   "outputs": [
    {
     "name": "stdout",
     "output_type": "stream",
     "text": [
      "        Unidades  Valor_vendas\n",
      "0             31        171.89\n",
      "1            529       3160.75\n",
      "2              7         38.81\n",
      "3             15         83.17\n",
      "4            295       1635.69\n",
      "...          ...           ...\n",
      "253265        58        393.82\n",
      "253266        22        149.38\n",
      "253267         1          6.79\n",
      "253268       109        740.11\n",
      "253269        15        101.85\n",
      "\n",
      "[253270 rows x 2 columns]\n"
     ]
    }
   ],
   "source": [
    "print(y)"
   ]
  },
  {
   "cell_type": "code",
   "execution_count": 45,
   "id": "643cddc8",
   "metadata": {
    "ExecuteTime": {
     "end_time": "2022-08-21T20:17:16.862041Z",
     "start_time": "2022-08-21T20:17:16.848080Z"
    }
   },
   "outputs": [
    {
     "name": "stdout",
     "output_type": "stream",
     "text": [
      "Media Unidades: 1924.0204169463418\n",
      "Media Valor_vendas: 15197.101384885862\n"
     ]
    }
   ],
   "source": [
    "# Média da coluna Unidades\n",
    "media_unidades = y['Unidades'].mean()\n",
    "print(f'Media Unidades: {media_unidades}')\n",
    "\n",
    "# Média da coluna R$\n",
    "media_vendas = y['Valor_vendas'].mean()\n",
    "print(f'Media Valor_vendas: {media_vendas}')"
   ]
  },
  {
   "cell_type": "code",
   "execution_count": 46,
   "id": "a7b9d2c2",
   "metadata": {
    "ExecuteTime": {
     "end_time": "2022-08-21T20:17:24.345809Z",
     "start_time": "2022-08-21T20:17:24.324952Z"
    }
   },
   "outputs": [
    {
     "name": "stdout",
     "output_type": "stream",
     "text": [
      "Mediana Unidades: 106.0\n",
      "Mediana Valor_vendas: 1108.41\n"
     ]
    }
   ],
   "source": [
    "#Mediana da coluna Unidades\n",
    "mediana_unidades = y['Unidades'].median()\n",
    "print(f'Mediana Unidades: {mediana_unidades}')\n",
    "\n",
    "#Mediana da coluna Valor_vendas\n",
    "mediana_valor_vendas = y['Valor_vendas'].median()\n",
    "print(f'Mediana Valor_vendas: {mediana_valor_vendas}')"
   ]
  },
  {
   "cell_type": "code",
   "execution_count": 47,
   "id": "53b2cdfa",
   "metadata": {
    "ExecuteTime": {
     "end_time": "2022-08-21T20:17:28.036617Z",
     "start_time": "2022-08-21T20:17:28.022654Z"
    }
   },
   "outputs": [
    {
     "name": "stdout",
     "output_type": "stream",
     "text": [
      "Variancia Unidades: 145534850.35457656\n",
      "Variancia Valor_vendas: 3851559149.6006775\n"
     ]
    }
   ],
   "source": [
    "#Variancia da coluna Unidades ( medida de dispersao para medir o quao afastados os dados estao da media/ quanto maior a variancia mais afastados os dados se encontram da media)\n",
    "variancia_unidades = y['Unidades'].var()\n",
    "print(f'Variancia Unidades: {variancia_unidades}')\n",
    "\n",
    "#Mediana da coluna Valor_vendas\n",
    "variancia_valor_vendas = y['Valor_vendas'].var()\n",
    "print(f'Variancia Valor_vendas: {variancia_valor_vendas}')"
   ]
  },
  {
   "cell_type": "code",
   "execution_count": 48,
   "id": "898b3b78",
   "metadata": {
    "ExecuteTime": {
     "end_time": "2022-08-21T20:17:31.047139Z",
     "start_time": "2022-08-21T20:17:31.018788Z"
    }
   },
   "outputs": [
    {
     "name": "stdout",
     "output_type": "stream",
     "text": [
      "Desvio Padrao de Unidades: 12063.78258899656\n",
      "Desvio Padrao de Valor_vendas: 62060.93094371593\n"
     ]
    }
   ],
   "source": [
    "# Desvio Padrao da coluna Unidades (indica o quanto um conjunto de dados é uniforme. Quanto mais próximo de 0 for o desvio padrão, mais homogêneo são os dados)\n",
    "desv_unidades = y['Unidades'].std()\n",
    "print(f'Desvio Padrao de Unidades: {desv_unidades}')\n",
    "\n",
    "#Desvio Padrao da coluna Valor_vendas\n",
    "desv_valor_vendas = y['Valor_vendas'].std()\n",
    "print(f'Desvio Padrao de Valor_vendas: {desv_valor_vendas}')"
   ]
  },
  {
   "cell_type": "markdown",
   "id": "56fdc813",
   "metadata": {},
   "source": [
    "### Trabalhando com dados categoricos"
   ]
  },
  {
   "cell_type": "code",
   "execution_count": 49,
   "id": "74f657ba",
   "metadata": {
    "ExecuteTime": {
     "end_time": "2022-08-21T20:17:35.978269Z",
     "start_time": "2022-08-21T20:17:35.937462Z"
    }
   },
   "outputs": [
    {
     "data": {
      "text/plain": [
       "COMBIRON FOLICO         2383\n",
       "NEUTROFER               2356\n",
       "MASFEROL                2335\n",
       "CIPROFLOXACINO P.D      2328\n",
       "BACTRIM F               2316\n",
       "                        ... \n",
       "TRAMINER                   1\n",
       "QUIMIO                     1\n",
       "CIPROFLOXACINO LAS         1\n",
       "FLU+POLI+NEO+LID EMS       1\n",
       "MAXTONICO                  1\n",
       "Name: Marca, Length: 316, dtype: int64"
      ]
     },
     "execution_count": 49,
     "metadata": {},
     "output_type": "execute_result"
    }
   ],
   "source": [
    "# Verificando a ocorrencia de dados nos valores categoricos do dataframe\n",
    "df['Marca'].value_counts()"
   ]
  },
  {
   "cell_type": "code",
   "execution_count": 50,
   "id": "72ef3e62",
   "metadata": {
    "ExecuteTime": {
     "end_time": "2022-08-21T20:17:40.186616Z",
     "start_time": "2022-08-21T20:17:40.103627Z"
    }
   },
   "outputs": [
    {
     "data": {
      "text/plain": [
       "EMS          20045\n",
       "FQM GRUPO    12227\n",
       "EUROFARMA    12096\n",
       "GLOBO        11520\n",
       "GEOLAB       11392\n",
       "             ...  \n",
       "FARMION          2\n",
       "BIOFARMA         2\n",
       "LASA             1\n",
       "STIEFEL          1\n",
       "TKS              1\n",
       "Name: Fabricante, Length: 104, dtype: int64"
      ]
     },
     "execution_count": 50,
     "metadata": {},
     "output_type": "execute_result"
    }
   ],
   "source": [
    "df['Fabricante'].value_counts()"
   ]
  },
  {
   "cell_type": "code",
   "execution_count": 51,
   "id": "f488e2fc",
   "metadata": {
    "ExecuteTime": {
     "end_time": "2022-08-21T20:17:41.979244Z",
     "start_time": "2022-08-21T20:17:41.920403Z"
    }
   },
   "outputs": [
    {
     "data": {
      "text/plain": [
       "CIPROFAR     44287\n",
       "VI-FERRIN    41818\n",
       "NISUFAR      36615\n",
       "BENZEVIT     27203\n",
       "BACFAR       26314\n",
       "MAGNACAL     21597\n",
       "PETALLA      15064\n",
       "SECFAR       14942\n",
       "ELOTIN       14126\n",
       "VALERANCE    11304\n",
       "Name: Ref_Elofar, dtype: int64"
      ]
     },
     "execution_count": 51,
     "metadata": {},
     "output_type": "execute_result"
    }
   ],
   "source": [
    "df['Ref_Elofar'].value_counts()"
   ]
  },
  {
   "cell_type": "code",
   "execution_count": 52,
   "id": "c0aec342",
   "metadata": {
    "ExecuteTime": {
     "end_time": "2022-08-21T20:17:45.361870Z",
     "start_time": "2022-08-21T20:17:45.310483Z"
    }
   },
   "outputs": [
    {
     "data": {
      "text/plain": [
       "SP    14428\n",
       "MG    13021\n",
       "PR    12804\n",
       "RJ    12409\n",
       "PE    11878\n",
       "SC    11791\n",
       "BA    11724\n",
       "RS    11715\n",
       "PA    11655\n",
       "GO    11301\n",
       "MA     9925\n",
       "CE     9716\n",
       "ES     8924\n",
       "PB     8728\n",
       "MT     8699\n",
       "PI     8605\n",
       "AM     7964\n",
       "RN     7939\n",
       "DF     7657\n",
       "RO     7648\n",
       "SE     7522\n",
       "AL     7486\n",
       "MS     7093\n",
       "TO     6395\n",
       "AC     5812\n",
       "AP     5249\n",
       "RR     5182\n",
       "Name: UF, dtype: int64"
      ]
     },
     "execution_count": 52,
     "metadata": {},
     "output_type": "execute_result"
    }
   ],
   "source": [
    "df['UF'].value_counts()"
   ]
  },
  {
   "cell_type": "code",
   "execution_count": 53,
   "id": "bd6d8f7a",
   "metadata": {
    "ExecuteTime": {
     "end_time": "2022-08-21T20:17:51.085070Z",
     "start_time": "2022-08-21T20:17:51.027061Z"
    }
   },
   "outputs": [
    {
     "data": {
      "text/plain": [
       "FARMACIAS     159712\n",
       "OUTROS         56199\n",
       "HOSPITALAR     37359\n",
       "Name: Tipo_canal, dtype: int64"
      ]
     },
     "execution_count": 53,
     "metadata": {},
     "output_type": "execute_result"
    }
   ],
   "source": [
    "df['Tipo_canal'].value_counts()"
   ]
  },
  {
   "cell_type": "code",
   "execution_count": 55,
   "id": "27d0cf5d",
   "metadata": {
    "ExecuteTime": {
     "end_time": "2022-08-21T20:18:23.711113Z",
     "start_time": "2022-08-21T20:18:17.472127Z"
    }
   },
   "outputs": [
    {
     "data": {
      "text/plain": [
       "<AxesSubplot:xlabel='Unidades', ylabel='Valor_vendas'>"
      ]
     },
     "execution_count": 55,
     "metadata": {},
     "output_type": "execute_result"
    },
    {
     "data": {
      "image/png": "[encoded data removed]",
      "text/plain": [
       "<Figure size 600x400 with 1 Axes>"
      ]
     },
     "metadata": {},
     "output_type": "display_data"
    }
   ],
   "source": [
    "# Esse grafico mostra a variaçao em unidades e valor de vendas em relaçao aos diferentes tipos de canal \n",
    "\n",
    "sn.scatterplot(data=df, x=\"Unidades\", y=\"Valor_vendas\", hue= df['Tipo_canal'])"
   ]
  },
  {
   "cell_type": "markdown",
   "id": "c991f81b",
   "metadata": {
    "ExecuteTime": {
     "end_time": "2022-08-19T17:36:30.267970Z",
     "start_time": "2022-08-19T17:36:27.145535Z"
    }
   },
   "source": [
    "### Salvando o dataset tratado em um arquivo csv."
   ]
  },
  {
   "cell_type": "code",
   "execution_count": 57,
   "id": "98ddc50a",
   "metadata": {
    "ExecuteTime": {
     "end_time": "2022-08-21T20:19:17.338761Z",
     "start_time": "2022-08-21T20:19:13.022348Z"
    }
   },
   "outputs": [],
   "source": [
    "df.to_csv(\"f_elofar.csv\")"
   ]
  }
 ],
 "metadata": {
  "kernelspec": {
   "display_name": "Python 3",
   "language": "python",
   "name": "python3"
  },
  "language_info": {
   "codemirror_mode": {
    "name": "ipython",
    "version": 3
   },
   "file_extension": ".py",
   "mimetype": "text/x-python",
   "name": "python",
   "nbconvert_exporter": "python",
   "pygments_lexer": "ipython3",
   "version": "3.8.8"
  },
  "toc": {
   "base_numbering": 1,
   "nav_menu": {},
   "number_sections": true,
   "sideBar": true,
   "skip_h1_title": false,
   "title_cell": "Table of Contents",
   "title_sidebar": "Contents",
   "toc_cell": false,
   "toc_position": {},
   "toc_section_display": true,
   "toc_window_display": false
  },
  "varInspector": {
   "cols": {
    "lenName": 16,
    "lenType": 16,
    "lenVar": 40
   },
   "kernels_config": {
    "python": {
     "delete_cmd_postfix": "",
     "delete_cmd_prefix": "del ",
     "library": "var_list.py",
     "varRefreshCmd": "print(var_dic_list())"
    },
    "r": {
     "delete_cmd_postfix": ") ",
     "delete_cmd_prefix": "rm(",
     "library": "var_list.r",
     "varRefreshCmd": "cat(var_dic_list()) "
    }
   },
   "types_to_exclude": [
    "module",
    "function",
    "builtin_function_or_method",
    "instance",
    "_Feature"
   ],
   "window_display": false
  }
 },
 "nbformat": 4,
 "nbformat_minor": 5
}
