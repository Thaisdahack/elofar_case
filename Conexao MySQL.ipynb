{
 "cells": [
  {
   "cell_type": "code",
   "execution_count": 1,
   "id": "73c7a693",
   "metadata": {
    "ExecuteTime": {
     "end_time": "2022-08-21T20:50:36.802359Z",
     "start_time": "2022-08-21T20:50:35.287046Z"
    }
   },
   "outputs": [],
   "source": [
    "import sqlalchemy as db #library to connect\n",
    "import pandas as pd\n"
   ]
  },
  {
   "cell_type": "code",
   "execution_count": 15,
   "id": "068eb707",
   "metadata": {
    "ExecuteTime": {
     "end_time": "2022-08-19T22:11:45.367963Z",
     "start_time": "2022-08-19T22:11:45.350012Z"
    }
   },
   "outputs": [],
   "source": [
    "#!pip install python-dotenv\n",
    "#Importando a biblioteca para guardar dados sensiveis\n",
    "from dotenv import load_dotenv\n",
    "import os"
   ]
  },
  {
   "cell_type": "code",
   "execution_count": 16,
   "id": "61cd96ab",
   "metadata": {
    "ExecuteTime": {
     "end_time": "2022-08-19T22:11:48.509497Z",
     "start_time": "2022-08-19T22:11:48.489546Z"
    }
   },
   "outputs": [
    {
     "data": {
      "text/plain": [
       "True"
      ]
     },
     "execution_count": 16,
     "metadata": {},
     "output_type": "execute_result"
    }
   ],
   "source": [
    "# Carrega as variáveis de ambiente do arquivo .env\n",
    "load_dotenv()"
   ]
  },
  {
   "cell_type": "code",
   "execution_count": 19,
   "id": "473442b1",
   "metadata": {
    "ExecuteTime": {
     "end_time": "2022-08-19T22:14:23.275644Z",
     "start_time": "2022-08-19T22:14:23.259067Z"
    }
   },
   "outputs": [],
   "source": [
    "# Obtém o nome de usuário\n",
    "user = os.environ.get('user')\n",
    "#Obtém o nome do servidor\n",
    "db_server = os.environ.get('db_server')\n",
    "# Obtém a portaria\n",
    "db_port = os.environ.get('db_port')\n",
    "#Obtém senha\n",
    "password = os.environ.get('password')\n",
    "#Obtem ip\n",
    "ip = os.environ.get('ip')\n",
    "#Obtem nome do database ja criado\n",
    "db_name = os.environ.get('db_name')"
   ]
  },
  {
   "cell_type": "code",
   "execution_count": 2,
   "id": "a58a1e68",
   "metadata": {
    "ExecuteTime": {
     "end_time": "2022-08-21T20:51:24.803158Z",
     "start_time": "2022-08-21T20:51:24.427095Z"
    }
   },
   "outputs": [],
   "source": [
    "#configurando a conexao\n",
    "\n",
    "db_server='pymysql'\n",
    "user='thaisdias'\n",
    "db_port = '3306'\n",
    "password = 'Thaishelena2908'\n",
    "ip = '127.0.0.1'\n",
    "db_name = 'elofar_vendas'\n",
    "#db_name = 'elofar_dataset'\n",
    "engine = db.create_engine(f'mysql+{db_server}://{user}:{password}@{ip}:{db_port}/{db_name}?charset=utf8',pool_pre_ping=True)\n",
    "conn = engine.connect()"
   ]
  },
  {
   "cell_type": "code",
   "execution_count": 3,
   "id": "bc621293",
   "metadata": {
    "ExecuteTime": {
     "end_time": "2022-08-21T20:51:42.172330Z",
     "start_time": "2022-08-21T20:51:27.196739Z"
    }
   },
   "outputs": [],
   "source": [
    "#colocando o dataset no Banco de dados\n",
    "\n",
    "f_vendas = pd.read_csv('f_elofar.csv')\n",
    "f_vendas.to_sql(name='f_vendas', con=conn, if_exists='replace', index=False)"
   ]
  }
 ],
 "metadata": {
  "kernelspec": {
   "display_name": "Python 3",
   "language": "python",
   "name": "python3"
  },
  "language_info": {
   "codemirror_mode": {
    "name": "ipython",
    "version": 3
   },
   "file_extension": ".py",
   "mimetype": "text/x-python",
   "name": "python",
   "nbconvert_exporter": "python",
   "pygments_lexer": "ipython3",
   "version": "3.8.8"
  },
  "toc": {
   "base_numbering": 1,
   "nav_menu": {},
   "number_sections": true,
   "sideBar": true,
   "skip_h1_title": false,
   "title_cell": "Table of Contents",
   "title_sidebar": "Contents",
   "toc_cell": false,
   "toc_position": {},
   "toc_section_display": true,
   "toc_window_display": false
  },
  "varInspector": {
   "cols": {
    "lenName": 16,
    "lenType": 16,
    "lenVar": 40
   },
   "kernels_config": {
    "python": {
     "delete_cmd_postfix": "",
     "delete_cmd_prefix": "del ",
     "library": "var_list.py",
     "varRefreshCmd": "print(var_dic_list())"
    },
    "r": {
     "delete_cmd_postfix": ") ",
     "delete_cmd_prefix": "rm(",
     "library": "var_list.r",
     "varRefreshCmd": "cat(var_dic_list()) "
    }
   },
   "types_to_exclude": [
    "module",
    "function",
    "builtin_function_or_method",
    "instance",
    "_Feature"
   ],
   "window_display": false
  }
 },
 "nbformat": 4,
 "nbformat_minor": 5
}
